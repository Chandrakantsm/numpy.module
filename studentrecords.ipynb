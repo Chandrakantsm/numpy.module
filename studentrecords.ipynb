{
 "cells": [
  {
   "cell_type": "code",
   "execution_count": 1,
   "metadata": {},
   "outputs": [
    {
     "name": "stdout",
     "output_type": "stream",
     "text": [
      "[70, 80] [65, 75] [82, 92]\n"
     ]
    },
    {
     "ename": "NameError",
     "evalue": "name 'marks' is not defined",
     "output_type": "error",
     "traceback": [
      "\u001b[1;31m---------------------------------------------------------------------------\u001b[0m",
      "\u001b[1;31mNameError\u001b[0m                                 Traceback (most recent call last)",
      "\u001b[1;32mc:\\Users\\User4\\Desktop\\numpy.module\\studentrecords.ipynb Cell 1\u001b[0m in \u001b[0;36m<cell line: 23>\u001b[1;34m()\u001b[0m\n\u001b[0;32m     <a href='vscode-notebook-cell:/c%3A/Users/User4/Desktop/numpy.module/studentrecords.ipynb#W0sZmlsZQ%3D%3D?line=25'>26</a>\u001b[0m mm\u001b[39m=\u001b[39mstudent_records[\u001b[39m\"\u001b[39m\u001b[39mMaths\u001b[39m\u001b[39m\"\u001b[39m]\n\u001b[0;32m     <a href='vscode-notebook-cell:/c%3A/Users/User4/Desktop/numpy.module/studentrecords.ipynb#W0sZmlsZQ%3D%3D?line=26'>27</a>\u001b[0m \u001b[39mprint\u001b[39m(pm,cm,mm)\n\u001b[1;32m---> <a href='vscode-notebook-cell:/c%3A/Users/User4/Desktop/numpy.module/studentrecords.ipynb#W0sZmlsZQ%3D%3D?line=28'>29</a>\u001b[0m \u001b[39mfor\u001b[39;00m j \u001b[39min\u001b[39;00m \u001b[39mrange\u001b[39m(\u001b[39mlen\u001b[39m(marks)):\n\u001b[0;32m     <a href='vscode-notebook-cell:/c%3A/Users/User4/Desktop/numpy.module/studentrecords.ipynb#W0sZmlsZQ%3D%3D?line=29'>30</a>\u001b[0m     \u001b[39m# print(marks[j]/2)\u001b[39;00m\n\u001b[0;32m     <a href='vscode-notebook-cell:/c%3A/Users/User4/Desktop/numpy.module/studentrecords.ipynb#W0sZmlsZQ%3D%3D?line=30'>31</a>\u001b[0m     ans\u001b[39m=\u001b[39m\u001b[39mround\u001b[39m((pm[j]\u001b[39m+\u001b[39mcm[j]\u001b[39m+\u001b[39mmm[j])\u001b[39m/\u001b[39m\u001b[39m3\u001b[39m,\u001b[39m2\u001b[39m)\n\u001b[0;32m     <a href='vscode-notebook-cell:/c%3A/Users/User4/Desktop/numpy.module/studentrecords.ipynb#W0sZmlsZQ%3D%3D?line=31'>32</a>\u001b[0m     \u001b[39m# print(round(ans,2))\u001b[39;00m\n",
      "\u001b[1;31mNameError\u001b[0m: name 'marks' is not defined"
     ]
    }
   ],
   "source": [
    "# importing and creating dataframe\n",
    "import pandas as pd\n",
    "student_records={\"roll_no\":[1,2],\"name\":[\"abc\",\"xyz\"],\"physics\":[70,80],\"chemistry\":[65,75],\"Maths\":[82,92]}\n",
    "df=pd.DataFrame(student_records)\n",
    "# print(df)\n",
    "\n",
    "def passfail(ans):\n",
    "    res=\"\"\n",
    "    if ans<35:\n",
    "        res=\"Failed\"\n",
    "        return res\n",
    "    elif ans>34.99 and ans<60:\n",
    "        res=\"Pass\"\n",
    "        return res\n",
    "    elif ans>59.99 and ans<70:\n",
    "        res=\"Passed with Distinction\"\n",
    "        return res\n",
    "\n",
    "# calculating percentages and  result\n",
    "percentage=[]\n",
    "Result=[]\n",
    "pm,cm,mm=[],[],[]\n",
    "for i in range(1):\n",
    "    pm=student_records[\"physics\"]\n",
    "    cm=student_records[\"chemistry\"]\n",
    "    mm=student_records[\"Maths\"]\n",
    "    print(pm,cm,mm)\n",
    "    \n",
    "    for j in range(len(marks)):\n",
    "        # print(marks[j]/2)\n",
    "        ans=round((pm[j]+cm[j]+mm[j])/3,2)\n",
    "        # print(round(ans,2))\n",
    "        percentage.append(ans)\n",
    "        passingstatus=passfail(ans)\n",
    "        Result.append(passingstatus)\n",
    "df[\"Percentage\"]=percentage\n",
    "df[\"Result\"]=Result\n",
    "print(df)"
   ]
  }
 ],
 "metadata": {
  "kernelspec": {
   "display_name": "base",
   "language": "python",
   "name": "python3"
  },
  "language_info": {
   "codemirror_mode": {
    "name": "ipython",
    "version": 3
   },
   "file_extension": ".py",
   "mimetype": "text/x-python",
   "name": "python",
   "nbconvert_exporter": "python",
   "pygments_lexer": "ipython3",
   "version": "3.9.12"
  },
  "orig_nbformat": 4
 },
 "nbformat": 4,
 "nbformat_minor": 2
}
