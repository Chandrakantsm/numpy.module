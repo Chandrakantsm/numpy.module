{
 "cells": [
  {
   "cell_type": "code",
   "execution_count": 1,
   "metadata": {},
   "outputs": [
    {
     "name": "stdout",
     "output_type": "stream",
     "text": [
      "1.24.1\n"
     ]
    }
   ],
   "source": [
    "import numpy as np\n",
    "print(np.__version__) "
   ]
  },
  {
   "cell_type": "code",
   "execution_count": 2,
   "metadata": {},
   "outputs": [
    {
     "name": "stdout",
     "output_type": "stream",
     "text": [
      "10\n",
      "<class 'numpy.ndarray'>\n"
     ]
    },
    {
     "data": {
      "text/plain": [
       "array(10)"
      ]
     },
     "execution_count": 2,
     "metadata": {},
     "output_type": "execute_result"
    }
   ],
   "source": [
    "#  doubts here\n",
    "arr=np.array(10)\n",
    "print(arr)\n",
    "print(type(arr))\n",
    "arr"
   ]
  },
  {
   "cell_type": "code",
   "execution_count": 8,
   "metadata": {},
   "outputs": [
    {
     "name": "stdout",
     "output_type": "stream",
     "text": [
      "[10 20]\n",
      "<class 'numpy.ndarray'> <class 'list'>\n"
     ]
    },
    {
     "data": {
      "text/plain": [
       "array([10, 20])"
      ]
     },
     "execution_count": 8,
     "metadata": {},
     "output_type": "execute_result"
    }
   ],
   "source": [
    "l=[15,11]\n",
    "arr=np.array([10,20])\n",
    "print(arr)\n",
    "print(type(arr),type(l))\n",
    "arr"
   ]
  },
  {
   "cell_type": "code",
   "execution_count": 11,
   "metadata": {},
   "outputs": [
    {
     "name": "stdout",
     "output_type": "stream",
     "text": [
      "20\n"
     ]
    },
    {
     "data": {
      "text/plain": [
       "array(20)"
      ]
     },
     "execution_count": 11,
     "metadata": {},
     "output_type": "execute_result"
    }
   ],
   "source": [
    "# creating 0 dimension array\n",
    "arr=np.array(20)\n",
    "print(arr)\n",
    "arr"
   ]
  },
  {
   "cell_type": "code",
   "execution_count": 1,
   "metadata": {},
   "outputs": [
    {
     "ename": "NameError",
     "evalue": "name 'np' is not defined",
     "output_type": "error",
     "traceback": [
      "\u001b[1;31m---------------------------------------------------------------------------\u001b[0m",
      "\u001b[1;31mNameError\u001b[0m                                 Traceback (most recent call last)",
      "Cell \u001b[1;32mIn[1], line 2\u001b[0m\n\u001b[0;32m      1\u001b[0m \u001b[39m# creating 1D array\u001b[39;00m\n\u001b[1;32m----> 2\u001b[0m arr\u001b[39m=\u001b[39mnp\u001b[39m.\u001b[39marray([\u001b[39m1\u001b[39m,\u001b[39m2\u001b[39m,\u001b[39m3\u001b[39m,\u001b[39m4\u001b[39m])\n\u001b[0;32m      3\u001b[0m mean\u001b[39m=\u001b[39mnp\u001b[39m.\u001b[39mmean(arr)\n\u001b[0;32m      4\u001b[0m \u001b[39mprint\u001b[39m(arr)\n",
      "\u001b[1;31mNameError\u001b[0m: name 'np' is not defined"
     ]
    }
   ],
   "source": [
    "# creating 1D array\n",
    "arr=np.array([1,2,3,4])\n",
    "mean=np.mean(arr)\n",
    "print(arr)\n",
    "mean"
   ]
  },
  {
   "cell_type": "code",
   "execution_count": 21,
   "metadata": {},
   "outputs": [
    {
     "name": "stdout",
     "output_type": "stream",
     "text": [
      "[[2 3 6]\n",
      " [4 5 2]]\n"
     ]
    },
    {
     "data": {
      "text/plain": [
       "array([[2, 3, 6],\n",
       "       [4, 5, 2]])"
      ]
     },
     "execution_count": 21,
     "metadata": {},
     "output_type": "execute_result"
    }
   ],
   "source": [
    "# creating a 2D array\n",
    "l=[[2,3,6],[4,5,2]]\n",
    "m=[[2,3],[4,2]]\n",
    "arr=np.array(l)\n",
    "print(arr)\n",
    "arr"
   ]
  },
  {
   "cell_type": "code",
   "execution_count": 41,
   "metadata": {},
   "outputs": [
    {
     "data": {
      "text/plain": [
       "array([[[1, 3, 2],\n",
       "        [1, 2, 3]],\n",
       "\n",
       "       [[2, 4, 6],\n",
       "        [2, 1, 4]]])"
      ]
     },
     "execution_count": 41,
     "metadata": {},
     "output_type": "execute_result"
    }
   ],
   "source": [
    "# creating a 3D array\n",
    "\n",
    "arr=np.array([[[1,3,2],[1,2,3]],[[2,4,6],[2,1,4]]])\n",
    "arr"
   ]
  },
  {
   "attachments": {},
   "cell_type": "markdown",
   "metadata": {},
   "source": [
    "Arrays in numpy in all dimesnsions  "
   ]
  },
  {
   "cell_type": "code",
   "execution_count": 30,
   "metadata": {},
   "outputs": [
    {
     "name": "stdout",
     "output_type": "stream",
     "text": [
      "[10] 20\n",
      "[1 2]\n",
      "[[1 2]\n",
      " [3 4]]\n",
      "[[[1 2 3 4 6]\n",
      "  [3 4 3 5 6]]]\n"
     ]
    }
   ],
   "source": [
    "#  creating multidimensional arrays\n",
    "import numpy as np\n",
    "print(np.array([10]),np.array(20)) # 0 d\n",
    "print(np.array([1,2])) # 1 d\n",
    "print(np.array([[1,2],[3,4]]))  # 2 d\n",
    "print(np.array([[[1,2,3,4,6],[3,4,3,5,6]]])) # 3 d\n"
   ]
  },
  {
   "cell_type": "code",
   "execution_count": 67,
   "metadata": {},
   "outputs": [
    {
     "name": "stdout",
     "output_type": "stream",
     "text": [
      "(1, 1, 1, 1, 5)\n"
     ]
    },
    {
     "data": {
      "text/plain": [
       "array([[[[[1, 2, 5, 6, 4]]]]])"
      ]
     },
     "execution_count": 67,
     "metadata": {},
     "output_type": "execute_result"
    }
   ],
   "source": [
    "#  creating array of 5D\n",
    "arr=np.array([1,2,5,6,4],ndmin=5)\n",
    "print(arr.shape)\n",
    "arr"
   ]
  },
  {
   "attachments": {},
   "cell_type": "markdown",
   "metadata": {},
   "source": [
    "ndmin = 5"
   ]
  },
  {
   "cell_type": "code",
   "execution_count": 68,
   "metadata": {},
   "outputs": [
    {
     "name": "stdout",
     "output_type": "stream",
     "text": [
      "[[[ 1  2  3  4  5]]\n",
      "\n",
      " [[ 6  7  8  9 10]]\n",
      "\n",
      " [[ 4  6  8  2  0]]]\n",
      "3\n",
      "(3, 1, 5)\n"
     ]
    }
   ],
   "source": [
    "# chexking the shape and dimensions\n",
    "arr=np.array([[[1,2,3,4,5]],[[6,7,8,9,10]],[[4,6,8,2,0]]])\n",
    "print(arr)\n",
    "print(arr.ndim)\n",
    "print(arr.shape)"
   ]
  },
  {
   "cell_type": "code",
   "execution_count": 105,
   "metadata": {},
   "outputs": [
    {
     "name": "stdout",
     "output_type": "stream",
     "text": [
      "[[[1 2 3 4]]]\n",
      "3\n"
     ]
    }
   ],
   "source": [
    "arr=np.array((1,2,3,4),ndmin=3)\n",
    "print(arr)\n",
    "print(arr.ndim) #gives dimension of array"
   ]
  },
  {
   "attachments": {},
   "cell_type": "markdown",
   "metadata": {},
   "source": [
    "filling arrays with zeros"
   ]
  },
  {
   "cell_type": "code",
   "execution_count": 99,
   "metadata": {},
   "outputs": [
    {
     "name": "stdout",
     "output_type": "stream",
     "text": [
      "[0. 0. 0. 0. 0.]\n"
     ]
    }
   ],
   "source": [
    "import numpy  as np\n",
    "arr= np.zeros(5)\n",
    "print(arr)"
   ]
  },
  {
   "cell_type": "code",
   "execution_count": 100,
   "metadata": {},
   "outputs": [
    {
     "name": "stdout",
     "output_type": "stream",
     "text": [
      "[[[1 1 1]]\n",
      "\n",
      " [[1 1 1]]]\n"
     ]
    }
   ],
   "source": [
    "arr=np.ones((2,1,3),dtype=int) # read as 2 matrices of 1 row and 3 coloumns\n",
    "print(arr)\n"
   ]
  },
  {
   "cell_type": "code",
   "execution_count": 97,
   "metadata": {},
   "outputs": [
    {
     "data": {
      "text/plain": [
       "array([[1., 1., 1.]])"
      ]
     },
     "execution_count": 97,
     "metadata": {},
     "output_type": "execute_result"
    }
   ],
   "source": [
    "arr=np.ones((1,3,2))\n",
    "arr"
   ]
  },
  {
   "attachments": {},
   "cell_type": "markdown",
   "metadata": {},
   "source": [
    " below code : arange stands for array range, range functions applicable"
   ]
  },
  {
   "cell_type": "code",
   "execution_count": 101,
   "metadata": {},
   "outputs": [
    {
     "data": {
      "text/plain": [
       "array([0, 1, 2, 3, 4, 5, 6, 7, 8, 9])"
      ]
     },
     "execution_count": 101,
     "metadata": {},
     "output_type": "execute_result"
    }
   ],
   "source": [
    "arr=np.arange(10)\n",
    "arr\n",
    "# np.arange(4)"
   ]
  },
  {
   "cell_type": "code",
   "execution_count": 102,
   "metadata": {},
   "outputs": [
    {
     "data": {
      "text/plain": [
       "array([ 0,  2,  4,  6,  8, 10, 12, 14, 16, 18, 20])"
      ]
     },
     "execution_count": 102,
     "metadata": {},
     "output_type": "execute_result"
    }
   ],
   "source": [
    "arr=np.arange(0,21,2)\n",
    "arr"
   ]
  },
  {
   "attachments": {},
   "cell_type": "markdown",
   "metadata": {},
   "source": [
    "sorting arrays numbers and alphabets"
   ]
  },
  {
   "cell_type": "code",
   "execution_count": 111,
   "metadata": {},
   "outputs": [
    {
     "name": "stdout",
     "output_type": "stream",
     "text": [
      "[8 7 6 5 4 3 2 1] [1 2 3 4 5 6 7 8]\n"
     ]
    }
   ],
   "source": [
    "import numpy as np\n",
    "arr=np.array([8,7,6,5,4,3,2,1])\n",
    "sorted_array=np.sort(arr)\n",
    "print(arr, sorted_array)\n"
   ]
  },
  {
   "cell_type": "code",
   "execution_count": 112,
   "metadata": {},
   "outputs": [
    {
     "name": "stdout",
     "output_type": "stream",
     "text": [
      "['apple' 'tea' 'zebra']\n"
     ]
    }
   ],
   "source": [
    "arr=np.array([\"tea\",\"apple\",\"zebra\"])\n",
    "sorted_array=np.sort(arr)\n",
    "print(sorted_array)"
   ]
  },
  {
   "attachments": {},
   "cell_type": "markdown",
   "metadata": {},
   "source": [
    "sorting 2d array"
   ]
  },
  {
   "cell_type": "code",
   "execution_count": 113,
   "metadata": {},
   "outputs": [
    {
     "name": "stdout",
     "output_type": "stream",
     "text": [
      "[[1 2 5]\n",
      " [1 2 3]]\n"
     ]
    }
   ],
   "source": [
    "arr=np.array([[5,2,1],[3,2,1]])\n",
    "sorted_array=np.sort(arr)\n",
    "print(sorted_array)"
   ]
  },
  {
   "attachments": {},
   "cell_type": "markdown",
   "metadata": {},
   "source": [
    "access array elements"
   ]
  },
  {
   "cell_type": "code",
   "execution_count": 109,
   "metadata": {},
   "outputs": [
    {
     "name": "stdout",
     "output_type": "stream",
     "text": [
      "[2 3 4 5]\n",
      "3\n",
      "[4 5]\n"
     ]
    }
   ],
   "source": [
    "arr=np.array([1,2,3,4,5,6])\n",
    "print(arr[-5:-1:])\n",
    "print(arr[2]) # indexing\n",
    "print(arr[3:5])# slicing\n",
    "\n"
   ]
  },
  {
   "cell_type": "code",
   "execution_count": 122,
   "metadata": {},
   "outputs": [
    {
     "name": "stdout",
     "output_type": "stream",
     "text": [
      "[[10 20 22 24 25]\n",
      " [30 40 45 48 56]]\n",
      "20\n",
      "4\n"
     ]
    }
   ],
   "source": [
    "mat=np.array([[10,20,22,24,25],[30,40,45,48,56]])\n",
    "print(mat)\n",
    "print(mat[0,1])\n",
    "mat=np.array([[[1,2,3,4,5,6]],[[6,5,4,3,2,1]]])\n",
    "print(mat[1,0,2])\n"
   ]
  },
  {
   "cell_type": "code",
   "execution_count": 116,
   "metadata": {},
   "outputs": [
    {
     "name": "stdout",
     "output_type": "stream",
     "text": [
      "5\n",
      "[4 5]\n"
     ]
    }
   ],
   "source": [
    "mat=np.array([  [[1,2,3],[4,5,6]] , [[2,3,4],[3,4,5]]  ])\n",
    "# print(mat)\n",
    "print(mat[1,1,2])\n",
    "print(mat[1,1,1:3])"
   ]
  },
  {
   "cell_type": "code",
   "execution_count": 117,
   "metadata": {},
   "outputs": [
    {
     "name": "stdout",
     "output_type": "stream",
     "text": [
      "(array([3], dtype=int64),)\n"
     ]
    },
    {
     "data": {
      "text/plain": [
       "(array([1], dtype=int64),)"
      ]
     },
     "execution_count": 117,
     "metadata": {},
     "output_type": "execute_result"
    }
   ],
   "source": [
    "arr=np.array([2,80,40,60,40])\n",
    "value=np.where(arr==60)\n",
    "print(value)\n",
    "arr1=np.array([\"a\",\"d\",\"f\",\"g\"])\n",
    "value1=np.where(arr1==\"d\")\n",
    "value1\n",
    "\n"
   ]
  },
  {
   "cell_type": "code",
   "execution_count": 118,
   "metadata": {},
   "outputs": [
    {
     "data": {
      "text/plain": [
       "array([False,  True,  True,  True,  True])"
      ]
     },
     "execution_count": 118,
     "metadata": {},
     "output_type": "execute_result"
    }
   ],
   "source": [
    "arr=np.array([2,80,40,60,40])\n",
    "value2=np.array(arr%4==0)\n",
    "value2"
   ]
  },
  {
   "attachments": {},
   "cell_type": "markdown",
   "metadata": {},
   "source": [
    "searchsorted()"
   ]
  },
  {
   "cell_type": "code",
   "execution_count": 119,
   "metadata": {},
   "outputs": [
    {
     "name": "stdout",
     "output_type": "stream",
     "text": [
      "[1 2 3 4 5]\n"
     ]
    },
    {
     "data": {
      "text/plain": [
       "2"
      ]
     },
     "execution_count": 119,
     "metadata": {},
     "output_type": "execute_result"
    }
   ],
   "source": [
    "arr=np.array([1,2,3,4,5])\n",
    "val=np.searchsorted(arr,3)\n",
    "print(arr)\n",
    "val\n"
   ]
  },
  {
   "cell_type": "code",
   "execution_count": 120,
   "metadata": {},
   "outputs": [],
   "source": [
    "arr=np.array([1,2,3,4])\n"
   ]
  },
  {
   "attachments": {},
   "cell_type": "markdown",
   "metadata": {},
   "source": [
    "reshaping an array reshape()"
   ]
  },
  {
   "cell_type": "code",
   "execution_count": 121,
   "metadata": {},
   "outputs": [
    {
     "name": "stdout",
     "output_type": "stream",
     "text": [
      "[[ 1  2  3  4]\n",
      " [ 5  6  7  8]\n",
      " [ 9 10 11 12]]\n"
     ]
    },
    {
     "data": {
      "text/plain": [
       "array([ 1,  2,  3,  4,  5,  6,  7,  8,  9, 10, 11, 12])"
      ]
     },
     "execution_count": 121,
     "metadata": {},
     "output_type": "execute_result"
    }
   ],
   "source": [
    "arr=np.array([1,2,3,4,5,6,7,8,9,10,11,12])\n",
    "newarr=arr.reshape(3,4)\n",
    "print(newarr)\n",
    "\n",
    "oldarr=newarr.reshape(-1)\n",
    "oldarr \n",
    "# increase and decrease the order of the array"
   ]
  },
  {
   "cell_type": "code",
   "execution_count": 122,
   "metadata": {},
   "outputs": [
    {
     "name": "stdout",
     "output_type": "stream",
     "text": [
      "[10 30 40 70]\n"
     ]
    }
   ],
   "source": [
    "import numpy as np \n",
    "arr=np.array([10,20,30,40,50,60,70])\n",
    "b=[True,False,True,True,False,False,True]\n",
    "newarr=arr[b]\n",
    "print(newarr)"
   ]
  },
  {
   "cell_type": "code",
   "execution_count": 123,
   "metadata": {},
   "outputs": [
    {
     "name": "stdout",
     "output_type": "stream",
     "text": [
      "<filter object at 0x000001CE0D27F610>\n"
     ]
    },
    {
     "ename": "TypeError",
     "evalue": "'list' object is not callable",
     "output_type": "error",
     "traceback": [
      "\u001b[1;31m---------------------------------------------------------------------------\u001b[0m",
      "\u001b[1;31mTypeError\u001b[0m                                 Traceback (most recent call last)",
      "Cell \u001b[1;32mIn[123], line 4\u001b[0m\n\u001b[0;32m      2\u001b[0m result\u001b[39m=\u001b[39m\u001b[39mfilter\u001b[39m(\u001b[39mlambda\u001b[39;00m x:x\u001b[39m%\u001b[39m\u001b[39m2\u001b[39m\u001b[39m!=\u001b[39m\u001b[39m0\u001b[39m,arr)\n\u001b[0;32m      3\u001b[0m \u001b[39mprint\u001b[39m(result)\n\u001b[1;32m----> 4\u001b[0m \u001b[39mprint\u001b[39m(\u001b[39mlist\u001b[39;49m(result))\n\u001b[0;32m      5\u001b[0m result\n",
      "\u001b[1;31mTypeError\u001b[0m: 'list' object is not callable"
     ]
    }
   ],
   "source": [
    "arr=np.array([0,1,2,3,5,8,13])\n",
    "result=filter(lambda x:x%2!=0,arr)\n",
    "print(result)\n",
    "print(list(result))\n",
    "result"
   ]
  },
  {
   "cell_type": "code",
   "execution_count": null,
   "metadata": {},
   "outputs": [
    {
     "name": "stdout",
     "output_type": "stream",
     "text": [
      "[[0 1 2]\n",
      " [3 4 5]]\n",
      "[[ 7  8  9]\n",
      " [10 11 12]]\n",
      "conctaenated\n",
      " [[ 0  1  2]\n",
      " [ 3  4  5]\n",
      " [ 7  8  9]\n",
      " [10 11 12]\n",
      " [20 21 22]\n",
      " [23 24 25]\n",
      " [26 27 28]\n",
      " [29 30 31]]\n"
     ]
    }
   ],
   "source": [
    "# concatenation of arrays\n",
    "a=np.arange(6).reshape(2,3)\n",
    "print(a)\n",
    "b=np.arange(7,13).reshape(2,3)\n",
    "print(b)\n",
    "c=np.arange(20,32).reshape(4,3)\n",
    "d=np.concatenate((a,b,c))\n",
    "print(\"conctaenated\\n\",d)"
   ]
  },
  {
   "cell_type": "code",
   "execution_count": null,
   "metadata": {},
   "outputs": [
    {
     "name": "stdout",
     "output_type": "stream",
     "text": [
      "[[ 0  1  2  7  8  9]\n",
      " [ 3  4  5 10 11 12]]\n"
     ]
    },
    {
     "data": {
      "text/plain": [
       "array([[ 0,  1,  2],\n",
       "       [ 3,  4,  5],\n",
       "       [ 7,  8,  9],\n",
       "       [10, 11, 12]])"
      ]
     },
     "execution_count": 93,
     "metadata": {},
     "output_type": "execute_result"
    }
   ],
   "source": [
    "e=np.concatenate((a,b),axis=1)# horizontal addition \n",
    "f=np.concatenate((a,b),axis=0)# vertical addition\n",
    "print(e)\n",
    "f\n"
   ]
  },
  {
   "cell_type": "code",
   "execution_count": null,
   "metadata": {},
   "outputs": [
    {
     "name": "stdout",
     "output_type": "stream",
     "text": [
      "[[0 1 2]\n",
      " [3 4 5]]\n",
      "[[ 7  8  9]\n",
      " [10 11 12]]\n",
      "[[[ 0  1  2]\n",
      "  [ 3  4  5]]\n",
      "\n",
      " [[ 7  8  9]\n",
      "  [10 11 12]]]\n",
      "[[[ 0  1  2]\n",
      "  [ 7  8  9]]\n",
      "\n",
      " [[ 3  4  5]\n",
      "  [10 11 12]]]\n",
      "[[[ 0  7]\n",
      "  [ 1  8]\n",
      "  [ 2  9]]\n",
      "\n",
      " [[ 3 10]\n",
      "  [ 4 11]\n",
      "  [ 5 12]]]\n"
     ]
    }
   ],
   "source": [
    "g=np.stack((a,b),axis=0)\n",
    "h=np.stack((a,b),axis=1)\n",
    "i=np.stack((a,b),axis=2)\n",
    "print(a)\n",
    "print(b)\n",
    "print(g)\n",
    "print(h)\n",
    "print(i)"
   ]
  },
  {
   "cell_type": "code",
   "execution_count": null,
   "metadata": {},
   "outputs": [
    {
     "data": {
      "text/plain": [
       "array([[ 0,  1,  2],\n",
       "       [ 3,  4,  5],\n",
       "       [ 7,  8,  9],\n",
       "       [10, 11, 12]])"
      ]
     },
     "execution_count": 95,
     "metadata": {},
     "output_type": "execute_result"
    }
   ],
   "source": [
    "np.vstack((a,b))"
   ]
  },
  {
   "cell_type": "code",
   "execution_count": null,
   "metadata": {},
   "outputs": [
    {
     "data": {
      "text/plain": [
       "array([[ 0,  1,  2,  7,  8,  9],\n",
       "       [ 3,  4,  5, 10, 11, 12]])"
      ]
     },
     "execution_count": 96,
     "metadata": {},
     "output_type": "execute_result"
    }
   ],
   "source": [
    "np.hstack((a,b))"
   ]
  },
  {
   "cell_type": "code",
   "execution_count": null,
   "metadata": {},
   "outputs": [
    {
     "name": "stdout",
     "output_type": "stream",
     "text": [
      "12\n",
      "[[[ 0  7]\n",
      "  [ 1  8]\n",
      "  [ 2  9]]\n",
      "\n",
      " [[ 3 10]\n",
      "  [ 4 11]\n",
      "  [ 5 12]]]\n"
     ]
    }
   ],
   "source": [
    "mat=np.dstack((a,b))\n",
    "print(mat[1,2,1]) # chooses the position of value, first matrix , then row, then column\n",
    "print(mat)"
   ]
  },
  {
   "cell_type": "code",
   "execution_count": null,
   "metadata": {},
   "outputs": [
    {
     "name": "stdout",
     "output_type": "stream",
     "text": [
      "[[ 0  1  2  7  8  9  4  5  6]\n",
      " [ 3  4  5 10 11 12  7  8  9]]\n",
      "[[[ 0  7  4]\n",
      "  [ 1  8  5]\n",
      "  [ 2  9  6]]\n",
      "\n",
      " [[ 3 10  7]\n",
      "  [ 4 11  8]\n",
      "  [ 5 12  9]]]\n",
      "[[ 0  1  2]\n",
      " [ 3  4  5]\n",
      " [ 7  8  9]\n",
      " [10 11 12]\n",
      " [ 4  5  6]\n",
      " [ 7  8  9]]\n"
     ]
    }
   ],
   "source": [
    "c=np.arange(4,10).reshape(2,3)\n",
    "print(np.hstack((a,b,c)))\n",
    "print(np.dstack((a,b,c)))\n",
    "print(np.vstack((a,b,c)))\n",
    "\n"
   ]
  },
  {
   "attachments": {},
   "cell_type": "markdown",
   "metadata": {},
   "source": [
    "pandas"
   ]
  },
  {
   "cell_type": "code",
   "execution_count": null,
   "metadata": {},
   "outputs": [],
   "source": [
    "import pandas as pd\n",
    "l=[10,20,30,40,50,60,70]\n",
    "\n",
    "S=pd.Series(data=l)\n",
    "\n",
    "print(S)\n"
   ]
  },
  {
   "cell_type": "code",
   "execution_count": null,
   "metadata": {},
   "outputs": [],
   "source": []
  },
  {
   "cell_type": "code",
   "execution_count": null,
   "metadata": {},
   "outputs": [],
   "source": [
    "import pandas as pd\n",
    "import numpy as np\n",
    "a=np.array([1,2,3,4,5,6,7,8,9])\n",
    "s=pd.Series((a))\n",
    "s"
   ]
  },
  {
   "cell_type": "code",
   "execution_count": null,
   "metadata": {},
   "outputs": [],
   "source": [
    "#  creating a series using a list \n",
    "import numpy as np\n",
    "list=[1,4,7,8,5,4,2]\n",
    "ser=pd.Series(list,index=[1,2,3,4,5,6,7])\n",
    "ser"
   ]
  },
  {
   "cell_type": "code",
   "execution_count": null,
   "metadata": {},
   "outputs": [],
   "source": [
    "#  creating empty series\n",
    "import pandas as pd\n",
    "ser=pd.Series()\n",
    "ser"
   ]
  },
  {
   "cell_type": "code",
   "execution_count": 144,
   "metadata": {},
   "outputs": [
    {
     "data": {
      "text/plain": [
       "a    1\n",
       "2    2\n",
       "6    4\n",
       "dtype: int64"
      ]
     },
     "execution_count": 144,
     "metadata": {},
     "output_type": "execute_result"
    }
   ],
   "source": [
    "# creating  a series using dictionary\n",
    "import pandas as  pd\n",
    "dict={\"a\":1,2:2,6:{1:\"l\"},6:4}\n",
    "ser=pd.Series(dict)\n",
    "ser\n"
   ]
  },
  {
   "cell_type": "code",
   "execution_count": null,
   "metadata": {},
   "outputs": [],
   "source": [
    "# creating series from scalar value\n",
    "import pandas as pd\n",
    "ser=pd.Series(10,index=[0,1,2,3,4])\n",
    "ser"
   ]
  },
  {
   "cell_type": "code",
   "execution_count": null,
   "metadata": {},
   "outputs": [],
   "source": [
    "# creating series using numpy functions\n",
    "import pandas as pd\n",
    "import numpy as np\n",
    "ser1=pd.Series(np.linspace(3,4,11))\n",
    "print(ser1)\n",
    "ser2=pd.Series(np.linspace(1, 100, 10))\n",
    "print(ser2)\n",
    "# print();"
   ]
  },
  {
   "cell_type": "code",
   "execution_count": null,
   "metadata": {},
   "outputs": [],
   "source": [
    "# creating a series from range function\n",
    "import pandas as pd\n",
    "a=pd.Series(range(5))\n",
    "a"
   ]
  },
  {
   "cell_type": "code",
   "execution_count": null,
   "metadata": {},
   "outputs": [],
   "source": [
    "#  creating a series using for loop and its comprehension\n",
    "import pandas as pd\n",
    "a=pd.Series(range(1,14,3),index=[x for x in \"abcde\"])\n",
    "a"
   ]
  },
  {
   "cell_type": "code",
   "execution_count": null,
   "metadata": {},
   "outputs": [],
   "source": [
    "#  creating a series using mathmatical function\n",
    "import pandas as pd\n",
    "import numpy as np\n",
    "ser=np.arange(5,10)\n",
    "ser1=pd.Series(data=ser*5,index=ser)\n",
    "ser1"
   ]
  },
  {
   "cell_type": "code",
   "execution_count": null,
   "metadata": {},
   "outputs": [],
   "source": [
    "# accessing elements of series\n",
    "import pandas as pd\n",
    "import numpy as np\n",
    "\n",
    "data=np.array([2,5,8,1,4,7,9,6,3,2,5,4,6,9,8,7])\n",
    "ser=pd.Series(data)\n",
    "print(ser[:5])\n",
    "#  accessing element using Label(index)\n",
    "print(ser[6])\n",
    "\n"
   ]
  },
  {
   "cell_type": "code",
   "execution_count": 135,
   "metadata": {},
   "outputs": [
    {
     "ename": "NameError",
     "evalue": "name 'index' is not defined",
     "output_type": "error",
     "traceback": [
      "\u001b[1;31m---------------------------------------------------------------------------\u001b[0m",
      "\u001b[1;31mNameError\u001b[0m                                 Traceback (most recent call last)",
      "Cell \u001b[1;32mIn[135], line 1\u001b[0m\n\u001b[1;32m----> 1\u001b[0m s\u001b[39m=\u001b[39mpd\u001b[39m.\u001b[39mSeries(a,index(\u001b[39m\"\u001b[39m\u001b[39ma\u001b[39m\u001b[39m\"\u001b[39m,\u001b[39m\"\u001b[39m\u001b[39mb\u001b[39m\u001b[39m\"\u001b[39m,\u001b[39m\"\u001b[39m\u001b[39mc\u001b[39m\u001b[39m\"\u001b[39m,\u001b[39m\"\u001b[39m\u001b[39md\u001b[39m\u001b[39m\"\u001b[39m,\u001b[39m\"\u001b[39m\u001b[39me\u001b[39m\u001b[39m\"\u001b[39m,\u001b[39m\"\u001b[39m\u001b[39mf\u001b[39m\u001b[39m\"\u001b[39m,\u001b[39m\"\u001b[39m\u001b[39mg\u001b[39m\u001b[39m\"\u001b[39m,\u001b[39m\"\u001b[39m\u001b[39mh\u001b[39m\u001b[39m\"\u001b[39m,\u001b[39m\"\u001b[39m\u001b[39mi\u001b[39m\u001b[39m\"\u001b[39m))\n\u001b[0;32m      2\u001b[0m \u001b[39mprint\u001b[39m(s)\n\u001b[0;32m      3\u001b[0m \u001b[39mprint\u001b[39m([\u001b[39m'\u001b[39m\u001b[39mc\u001b[39m\u001b[39m'\u001b[39m])\n",
      "\u001b[1;31mNameError\u001b[0m: name 'index' is not defined"
     ]
    }
   ],
   "source": [
    "s=pd.Series(a,index(\"a\",\"b\",\"c\",\"d\",\"e\",\"f\",\"g\",\"h\",\"i\"))\n",
    "print(s)\n",
    "print(['c'])\n"
   ]
  },
  {
   "cell_type": "code",
   "execution_count": 3,
   "metadata": {},
   "outputs": [
    {
     "ename": "NameError",
     "evalue": "name 'data' is not defined",
     "output_type": "error",
     "traceback": [
      "\u001b[1;31m---------------------------------------------------------------------------\u001b[0m",
      "\u001b[1;31mNameError\u001b[0m                                 Traceback (most recent call last)",
      "Cell \u001b[1;32mIn[3], line 4\u001b[0m\n\u001b[0;32m      1\u001b[0m \u001b[39m# l1=[1,2,3,4]\u001b[39;00m\n\u001b[0;32m      2\u001b[0m \u001b[39m# a=pd.Series(l1)\u001b[39;00m\n\u001b[0;32m      3\u001b[0m \u001b[39m# a\u001b[39;00m\n\u001b[1;32m----> 4\u001b[0m b\u001b[39m=\u001b[39mdata\u001b[39m.\u001b[39mxls\n\u001b[0;32m      5\u001b[0m b\n",
      "\u001b[1;31mNameError\u001b[0m: name 'data' is not defined"
     ]
    }
   ],
   "source": [
    "# l1=[1,2,3,4]\n",
    "# a=pd.Series(l1)\n",
    "# a\n"
   ]
  },
  {
   "cell_type": "code",
   "execution_count": 1,
   "metadata": {},
   "outputs": [
    {
     "name": "stdout",
     "output_type": "stream",
     "text": [
      "                                                   students\n",
      "student1  {'name': 'ABC', 'rollnumber': 1, 'class': 1, '...\n",
      "student2  {'name': 'DEF', 'rollnumber': 2, 'class': 2, '...\n",
      "student3  {'name': 'EFG', 'rollnumber': 3, 'class': 3, '...\n",
      "student4  {'name': 'HIJ', 'rollnumber': 4, 'class': 4, '...\n",
      "student5  {'name': 'jkl', 'rollnumber': 5, 'class': 5, '...\n",
      "                                                   students\n",
      "student2  {'name': 'DEF', 'rollnumber': 2, 'class': 2, '...\n",
      "student3  {'name': 'EFG', 'rollnumber': 3, 'class': 3, '...\n",
      "student4  {'name': 'HIJ', 'rollnumber': 4, 'class': 4, '...\n",
      "student5  {'name': 'jkl', 'rollnumber': 5, 'class': 5, '...\n",
      "student6  {'name': 'lmn', 'rollnumber': 6, 'class': 6, '...\n",
      "<pandas.core.indexing._LocIndexer object at 0x000001CE08EB76B0>\n"
     ]
    }
   ],
   "source": [
    "import pandas as pd\n",
    "df=pd.read_json(\"C:/Users/User4/Desktop/numpy.module/data.json\")\n",
    "# print(df.to_string())\n",
    "print(df.head())\n",
    "print(df.tail())\n",
    "\n",
    "# print(df.shape)\n",
    "print(df.loc())\n",
    "# df[2:1:1]\n"
   ]
  },
  {
   "cell_type": "code",
   "execution_count": 105,
   "metadata": {},
   "outputs": [
    {
     "data": {
      "text/plain": [
       "<pandas.core.indexing._LocIndexer at 0x1a795e95a40>"
      ]
     },
     "execution_count": 105,
     "metadata": {},
     "output_type": "execute_result"
    }
   ],
   "source": [
    "df.loc(1)"
   ]
  },
  {
   "cell_type": "code",
   "execution_count": 7,
   "metadata": {},
   "outputs": [
    {
     "data": {
      "text/plain": [
       "{'students': {'student1': {'name': 'ABC',\n",
       "   'rollnumber': 1,\n",
       "   'class': 1,\n",
       "   'phones': {'num1': '+910000000000', 'num2': '+910000000000'}},\n",
       "  'student2': {'name': 'DEF', 'rollnumber': 2, 'class': 2},\n",
       "  'student3': {'name': 'EFG', 'rollnumber': 3, 'class': 3}}}"
      ]
     },
     "execution_count": 7,
     "metadata": {},
     "output_type": "execute_result"
    }
   ],
   "source": [
    "{\n",
    "    \"students\":\n",
    "    {\n",
    "        \"student1\":\n",
    "        {\n",
    "            \"name\":\"ABC\",\n",
    "            \"rollnumber\":1,\n",
    "            \"class\":1,\n",
    "            \"phones\":{\n",
    "                \"num1\":\"+910000000000\",\n",
    "                \"num2\":\"+910000000000\"\n",
    "            }\n",
    "        },\n",
    "        \"student2\":\n",
    "        {\n",
    "            \"name\":\"DEF\",\n",
    "            \"rollnumber\":2,\n",
    "            \"class\":2\n",
    "        },\n",
    "        \"student3\":\n",
    "        {\n",
    "            \"name\":\"EFG\",\n",
    "            \"rollnumber\":3,\n",
    "            \"class\":3\n",
    "        }\n",
    "    }\n",
    "}"
   ]
  },
  {
   "cell_type": "code",
   "execution_count": null,
   "metadata": {},
   "outputs": [],
   "source": []
  }
 ],
 "metadata": {
  "kernelspec": {
   "display_name": "Python 3",
   "language": "python",
   "name": "python3"
  },
  "language_info": {
   "codemirror_mode": {
    "name": "ipython",
    "version": 3
   },
   "file_extension": ".py",
   "mimetype": "text/x-python",
   "name": "python",
   "nbconvert_exporter": "python",
   "pygments_lexer": "ipython3",
   "version": "3.11.3"
  },
  "orig_nbformat": 4
 },
 "nbformat": 4,
 "nbformat_minor": 2
}
