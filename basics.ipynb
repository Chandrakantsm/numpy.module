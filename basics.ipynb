{
 "cells": [
  {
   "cell_type": "code",
   "execution_count": 123,
   "metadata": {},
   "outputs": [
    {
     "name": "stdout",
     "output_type": "stream",
     "text": [
      "1.24.1\n"
     ]
    }
   ],
   "source": [
    "import numpy as np\n",
    "print(np.__version__) "
   ]
  },
  {
   "cell_type": "code",
   "execution_count": 124,
   "metadata": {},
   "outputs": [
    {
     "name": "stdout",
     "output_type": "stream",
     "text": [
      "10\n",
      "<class 'numpy.ndarray'>\n"
     ]
    },
    {
     "data": {
      "text/plain": [
       "array(10)"
      ]
     },
     "execution_count": 124,
     "metadata": {},
     "output_type": "execute_result"
    }
   ],
   "source": [
    "#  doubts here\n",
    "arr=np.array(10)\n",
    "print(arr)\n",
    "print(type(arr))\n",
    "arr"
   ]
  },
  {
   "cell_type": "code",
   "execution_count": 125,
   "metadata": {},
   "outputs": [
    {
     "name": "stdout",
     "output_type": "stream",
     "text": [
      "[15 11]\n"
     ]
    },
    {
     "data": {
      "text/plain": [
       "array([15, 11])"
      ]
     },
     "execution_count": 125,
     "metadata": {},
     "output_type": "execute_result"
    }
   ],
   "source": [
    "arr=np.array([15,11])\n",
    "print(arr)\n",
    "arr"
   ]
  },
  {
   "cell_type": "code",
   "execution_count": 126,
   "metadata": {},
   "outputs": [
    {
     "name": "stdout",
     "output_type": "stream",
     "text": [
      "[[2 3]\n",
      " [4 5]]\n"
     ]
    }
   ],
   "source": [
    "arr=np.array([[2,3],[4,5]])\n",
    "print(arr)"
   ]
  },
  {
   "attachments": {},
   "cell_type": "markdown",
   "metadata": {},
   "source": [
    "Arrays in numpy in all dimesnsions  "
   ]
  },
  {
   "cell_type": "code",
   "execution_count": 127,
   "metadata": {},
   "outputs": [
    {
     "name": "stdout",
     "output_type": "stream",
     "text": [
      "[10] 20\n",
      "[1 2]\n",
      "[[1 2]\n",
      " [3 4]]\n",
      "[[[1 2 3 4 6]\n",
      "  [3 4 3 5 6]]]\n"
     ]
    }
   ],
   "source": [
    "import numpy as np\n",
    "print(np.array([10]),np.array(20)) # 0 d\n",
    "print(np.array([1,2])) # 1 d\n",
    "print(np.array([[1,2],[3,4]]))  # 2 d\n",
    "print(np.array([[[1,2,3,4,6],[3,4,3,5,6]]])) # 3 d"
   ]
  },
  {
   "attachments": {},
   "cell_type": "markdown",
   "metadata": {},
   "source": [
    "ndmin = 5"
   ]
  },
  {
   "cell_type": "code",
   "execution_count": 128,
   "metadata": {},
   "outputs": [
    {
     "name": "stdout",
     "output_type": "stream",
     "text": [
      "[[[ 1  2  3  4  5]]\n",
      "\n",
      " [[ 6  7  8  9 10]]\n",
      "\n",
      " [[ 4  6  8  2  0]]]\n",
      "3\n",
      "(3, 1, 5)\n"
     ]
    }
   ],
   "source": [
    "arr=np.array([[[1,2,3,4,5]],[[6,7,8,9,10]],[[4,6,8,2,0]]])\n",
    "print(arr)\n",
    "print(arr.ndim)\n",
    "print(arr.shape)"
   ]
  },
  {
   "cell_type": "code",
   "execution_count": null,
   "metadata": {},
   "outputs": [],
   "source": []
  },
  {
   "cell_type": "code",
   "execution_count": 129,
   "metadata": {},
   "outputs": [
    {
     "name": "stdout",
     "output_type": "stream",
     "text": [
      "[[[1 2 3 4]]]\n",
      "3\n"
     ]
    }
   ],
   "source": [
    "arr=np.array((1,2,3,4),ndmin=3)\n",
    "print(arr)\n",
    "print(arr.ndim) #gives dimension of array"
   ]
  },
  {
   "attachments": {},
   "cell_type": "markdown",
   "metadata": {},
   "source": [
    "filling arrays with zeros"
   ]
  },
  {
   "cell_type": "code",
   "execution_count": 130,
   "metadata": {},
   "outputs": [
    {
     "name": "stdout",
     "output_type": "stream",
     "text": [
      "[0. 0. 0. 0.]\n"
     ]
    }
   ],
   "source": [
    "import numpy  as np\n",
    "arr= np.zeros(4)\n",
    "print(arr)"
   ]
  },
  {
   "cell_type": "code",
   "execution_count": 131,
   "metadata": {},
   "outputs": [
    {
     "name": "stdout",
     "output_type": "stream",
     "text": [
      "[[[1. 1. 1.]\n",
      "  [1. 1. 1.]]\n",
      "\n",
      " [[1. 1. 1.]\n",
      "  [1. 1. 1.]]\n",
      "\n",
      " [[1. 1. 1.]\n",
      "  [1. 1. 1.]]\n",
      "\n",
      " [[1. 1. 1.]\n",
      "  [1. 1. 1.]]]\n"
     ]
    }
   ],
   "source": [
    "arr=np.ones((4,2,3))\n",
    "print(arr)"
   ]
  },
  {
   "cell_type": "code",
   "execution_count": 132,
   "metadata": {},
   "outputs": [
    {
     "data": {
      "text/plain": [
       "array([[1., 1., 1.],\n",
       "       [1., 1., 1.],\n",
       "       [1., 1., 1.]])"
      ]
     },
     "execution_count": 132,
     "metadata": {},
     "output_type": "execute_result"
    }
   ],
   "source": [
    "arr=np.ones((3,3))\n",
    "arr"
   ]
  },
  {
   "attachments": {},
   "cell_type": "markdown",
   "metadata": {},
   "source": [
    " below code : arange stands for array range, range functions applicable"
   ]
  },
  {
   "cell_type": "code",
   "execution_count": 133,
   "metadata": {},
   "outputs": [
    {
     "data": {
      "text/plain": [
       "array([0, 1, 2, 3])"
      ]
     },
     "execution_count": 133,
     "metadata": {},
     "output_type": "execute_result"
    }
   ],
   "source": [
    "arr=np.arange(10)\n",
    "arr\n",
    "np.arange(4)"
   ]
  },
  {
   "cell_type": "code",
   "execution_count": 134,
   "metadata": {},
   "outputs": [
    {
     "data": {
      "text/plain": [
       "array([10, 12, 14, 16, 18, 20])"
      ]
     },
     "execution_count": 134,
     "metadata": {},
     "output_type": "execute_result"
    }
   ],
   "source": [
    "arr=np.arange(10,21,2)\n",
    "arr"
   ]
  },
  {
   "attachments": {},
   "cell_type": "markdown",
   "metadata": {},
   "source": [
    "sorting arrays numbers and alphabets"
   ]
  },
  {
   "cell_type": "code",
   "execution_count": 135,
   "metadata": {},
   "outputs": [
    {
     "name": "stdout",
     "output_type": "stream",
     "text": [
      "[8 7 6 5 4 3 2 1] [1 2 3 4 5 6 7 8]\n"
     ]
    }
   ],
   "source": [
    "import numpy as np\n",
    "arr=np.array([8,7,6,5,4,3,2,1])\n",
    "sorted_array=np.sort(arr)\n",
    "print(arr, sorted_array)\n"
   ]
  },
  {
   "cell_type": "code",
   "execution_count": 136,
   "metadata": {},
   "outputs": [
    {
     "name": "stdout",
     "output_type": "stream",
     "text": [
      "['apple' 'tea' 'zebra']\n"
     ]
    }
   ],
   "source": [
    "arr=np.array([\"tea\",\"apple\",\"zebra\"])\n",
    "sorted_array=np.sort(arr)\n",
    "print(sorted_array)"
   ]
  },
  {
   "attachments": {},
   "cell_type": "markdown",
   "metadata": {},
   "source": [
    "sorting 2d array"
   ]
  },
  {
   "cell_type": "code",
   "execution_count": 137,
   "metadata": {},
   "outputs": [
    {
     "name": "stdout",
     "output_type": "stream",
     "text": [
      "[[1 2 5]\n",
      " [1 2 3]]\n"
     ]
    }
   ],
   "source": [
    "arr=np.array([[5,2,1],[3,2,1]])\n",
    "sorted_array=np.sort(arr)\n",
    "print(sorted_array)"
   ]
  },
  {
   "attachments": {},
   "cell_type": "markdown",
   "metadata": {},
   "source": [
    "access array elements"
   ]
  },
  {
   "cell_type": "code",
   "execution_count": 138,
   "metadata": {},
   "outputs": [
    {
     "name": "stdout",
     "output_type": "stream",
     "text": [
      "[2 3 4 5]\n",
      "3\n",
      "[4 5]\n"
     ]
    }
   ],
   "source": [
    "arr=np.array([1,2,3,4,5,6])\n",
    "print(arr[-5:-1:])\n",
    "print(arr[2]) # indexing\n",
    "print(arr[3:5])# slicing"
   ]
  },
  {
   "cell_type": "code",
   "execution_count": 139,
   "metadata": {},
   "outputs": [
    {
     "name": "stdout",
     "output_type": "stream",
     "text": [
      "5\n"
     ]
    }
   ],
   "source": [
    "# mat=np.array([[10,20,22,24,25],[30,40,45,48,56]])\n",
    "# print(mat)\n",
    "# print(mat[0,1])\n",
    "mat=np.array([[[1,2,3,4,5,6]],[[6,5,4,3,2,1]]])\n",
    "print(mat[1,0,1])\n"
   ]
  },
  {
   "cell_type": "code",
   "execution_count": 150,
   "metadata": {},
   "outputs": [
    {
     "name": "stdout",
     "output_type": "stream",
     "text": [
      "5\n",
      "[4 5]\n"
     ]
    }
   ],
   "source": [
    "mat=np.array([  [[1,2,3],[4,5,6]] , [[2,3,4],[3,4,5]]  ])\n",
    "# print(mat)\n",
    "print(mat[1,1,2])\n",
    "print(mat[1,1,1:3])"
   ]
  },
  {
   "cell_type": "code",
   "execution_count": 171,
   "metadata": {},
   "outputs": [
    {
     "name": "stdout",
     "output_type": "stream",
     "text": [
      "(array([3], dtype=int64),)\n"
     ]
    },
    {
     "data": {
      "text/plain": [
       "(array([1], dtype=int64),)"
      ]
     },
     "execution_count": 171,
     "metadata": {},
     "output_type": "execute_result"
    }
   ],
   "source": [
    "arr=np.array([2,80,40,60,40])\n",
    "value=np.where(arr==60)\n",
    "print(value)\n",
    "arr1=np.array([\"a\",\"d\",\"f\",\"g\"])\n",
    "value1=np.where(arr1==\"d\")\n",
    "value1\n",
    "\n"
   ]
  },
  {
   "cell_type": "code",
   "execution_count": 170,
   "metadata": {},
   "outputs": [
    {
     "data": {
      "text/plain": [
       "array([False,  True,  True,  True,  True])"
      ]
     },
     "execution_count": 170,
     "metadata": {},
     "output_type": "execute_result"
    }
   ],
   "source": [
    "arr=np.array([2,80,40,60,40])\n",
    "value2=np.array(arr%4==0)\n",
    "value2"
   ]
  },
  {
   "attachments": {},
   "cell_type": "markdown",
   "metadata": {},
   "source": [
    "searchsorted()"
   ]
  },
  {
   "cell_type": "code",
   "execution_count": 182,
   "metadata": {},
   "outputs": [
    {
     "name": "stdout",
     "output_type": "stream",
     "text": [
      "[1 2 3 4 5]\n"
     ]
    },
    {
     "data": {
      "text/plain": [
       "2"
      ]
     },
     "execution_count": 182,
     "metadata": {},
     "output_type": "execute_result"
    }
   ],
   "source": [
    "arr=np.array([1,2,3,4,5])\n",
    "val=np.searchsorted(arr,3)\n",
    "print(arr)\n",
    "val\n"
   ]
  },
  {
   "cell_type": "code",
   "execution_count": null,
   "metadata": {},
   "outputs": [],
   "source": [
    "arr=np.array([1,2,3,4])\n"
   ]
  },
  {
   "attachments": {},
   "cell_type": "markdown",
   "metadata": {},
   "source": [
    "reshaping an array reshape()"
   ]
  },
  {
   "cell_type": "code",
   "execution_count": 193,
   "metadata": {},
   "outputs": [
    {
     "name": "stdout",
     "output_type": "stream",
     "text": [
      "[[ 1  2  3  4]\n",
      " [ 5  6  7  8]\n",
      " [ 9 10 11 12]]\n"
     ]
    },
    {
     "data": {
      "text/plain": [
       "array([ 1,  2,  3,  4,  5,  6,  7,  8,  9, 10, 11, 12])"
      ]
     },
     "execution_count": 193,
     "metadata": {},
     "output_type": "execute_result"
    }
   ],
   "source": [
    "arr=np.array([1,2,3,4,5,6,7,8,9,10,11,12])\n",
    "newarr=arr.reshape(3,4)\n",
    "print(newarr)\n",
    "\n",
    "oldarr=newarr.reshape(-1)\n",
    "oldarr \n",
    "# increase and decrease the order of the array"
   ]
  },
  {
   "cell_type": "code",
   "execution_count": 1,
   "metadata": {},
   "outputs": [
    {
     "name": "stdout",
     "output_type": "stream",
     "text": [
      "[10 30 40 70]\n"
     ]
    }
   ],
   "source": [
    "import numpy as np \n",
    "arr=np.array([10,20,30,40,50,60,70])\n",
    "b=[True,False,True,True,False,False,True]\n",
    "newarr=arr[b]\n",
    "print(newarr)"
   ]
  },
  {
   "cell_type": "code",
   "execution_count": 3,
   "metadata": {},
   "outputs": [
    {
     "name": "stdout",
     "output_type": "stream",
     "text": [
      "<filter object at 0x000001F258170B50>\n",
      "[1, 3, 5, 13]\n"
     ]
    },
    {
     "data": {
      "text/plain": [
       "<filter at 0x1f258170b50>"
      ]
     },
     "execution_count": 3,
     "metadata": {},
     "output_type": "execute_result"
    }
   ],
   "source": [
    "arr=np.array([0,1,2,3,5,8,13])\n",
    "result=filter(lambda x:x%2!=0,arr)\n",
    "print(result)\n",
    "print(list(result))\n",
    "result"
   ]
  },
  {
   "cell_type": "code",
   "execution_count": 21,
   "metadata": {},
   "outputs": [
    {
     "name": "stdout",
     "output_type": "stream",
     "text": [
      "[[0 1 2]\n",
      " [3 4 5]]\n",
      "[[ 7  8  9]\n",
      " [10 11 12]]\n",
      "conctaenated\n",
      " [[ 0  1  2]\n",
      " [ 3  4  5]\n",
      " [ 7  8  9]\n",
      " [10 11 12]\n",
      " [20 21 22]\n",
      " [23 24 25]\n",
      " [26 27 28]\n",
      " [29 30 31]]\n"
     ]
    }
   ],
   "source": [
    "# concatenation of arrays\n",
    "a=np.arange(6).reshape(2,3)\n",
    "print(a)\n",
    "b=np.arange(7,13).reshape(2,3)\n",
    "print(b)\n",
    "c=np.arange(20,32).reshape(4,3)\n",
    "d=np.concatenate((a,b,c))\n",
    "print(\"conctaenated\\n\",d)"
   ]
  },
  {
   "cell_type": "code",
   "execution_count": 28,
   "metadata": {},
   "outputs": [
    {
     "name": "stdout",
     "output_type": "stream",
     "text": [
      "[[ 0  1  2  7  8  9]\n",
      " [ 3  4  5 10 11 12]]\n"
     ]
    },
    {
     "data": {
      "text/plain": [
       "array([[ 0,  1,  2],\n",
       "       [ 3,  4,  5],\n",
       "       [ 7,  8,  9],\n",
       "       [10, 11, 12]])"
      ]
     },
     "execution_count": 28,
     "metadata": {},
     "output_type": "execute_result"
    }
   ],
   "source": [
    "e=np.concatenate((a,b),axis=1)# horizontal addition \n",
    "f=np.concatenate((a,b),axis=0)# vertical addition\n",
    "print(e)\n",
    "f\n"
   ]
  }
 ],
 "metadata": {
  "kernelspec": {
   "display_name": "Python 3",
   "language": "python",
   "name": "python3"
  },
  "language_info": {
   "codemirror_mode": {
    "name": "ipython",
    "version": 3
   },
   "file_extension": ".py",
   "mimetype": "text/x-python",
   "name": "python",
   "nbconvert_exporter": "python",
   "pygments_lexer": "ipython3",
   "version": "3.9.12"
  },
  "orig_nbformat": 4
 },
 "nbformat": 4,
 "nbformat_minor": 2
}
