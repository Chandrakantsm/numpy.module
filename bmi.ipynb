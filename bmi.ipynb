{
 "cells": [
  {
   "cell_type": "code",
   "execution_count": null,
   "metadata": {},
   "outputs": [],
   "source": [
    "import pandas as pd\n",
    "list1=[10,20,30,40,50,60]\n",
    "df=pd.DataFrame(list1)\n",
    "df\n",
    "\n",
    "\n"
   ]
  },
  {
   "cell_type": "code",
   "execution_count": null,
   "metadata": {},
   "outputs": [],
   "source": [
    "import pandas as pd\n",
    "bmi={\"age\":[21,22,23,24,25],\"gender\":[\"m\",\"f\",\"m\",\"f\",\"m\"],\"height\":[161,150,162,165,170],\"weight\":[70,60,85,55,100]}\n",
    "df=pd.DataFrame(bmi)\n",
    "# print(df)\n",
    "for i in range(5):\n",
    "    a=df.loc[i]\n",
    "    print(a)"
   ]
  },
  {
   "cell_type": "code",
   "execution_count": 18,
   "metadata": {},
   "outputs": [
    {
     "name": "stdout",
     "output_type": "stream",
     "text": [
      "   age gender  height  weight  BMI values      Your health status\n",
      "0   21      m     161      70   27.005131              overweight\n",
      "1   22      f     150      60   26.666667              overweight\n",
      "2   23      m     162      85   32.388355  suffering from obesity\n",
      "3   24      f     165      55   20.202020                 Healthy\n",
      "4   25      m     170     100   34.602076  suffering from obesity\n",
      "age                           21\n",
      "gender                         m\n",
      "height                       161\n",
      "weight                        70\n",
      "BMI values             27.005131\n",
      "Your health status    overweight\n",
      "Name: 0, dtype: object\n"
     ]
    }
   ],
   "source": [
    "import pandas as pd\n",
    "bmi={\"age\":[21,22,23,24,25],\"gender\":[\"m\",\"f\",\"m\",\"f\",\"m\"],\"height\":[161,150,162,165,170],\"weight\":[70,60,85,55,100]}\n",
    "\n",
    "def healthstatus(bmi):\n",
    "    status=\"\"\n",
    "    if (bmi<18.5):\n",
    "        # print(\"underweight\")\n",
    "        status = \"underweight\"\n",
    "        return status\n",
    "    elif(bmi>18.5 and bmi<24.9):\n",
    "        # print(\"Healthy\")\n",
    "        status=\"Healthy\"\n",
    "        return status\n",
    "    elif(bmi>24.9 and bmi<30):\n",
    "        # print(\"overweight\")\n",
    "        status=\"overweight\"\n",
    "        return status\n",
    "    elif(bmi>30):\n",
    "        # print(\"suffering from obesity\")\n",
    "        status=\"suffering from obesity\"\n",
    "        return status\n",
    "    \n",
    "    \n",
    "bmivalues=[]\n",
    "healthstatuses=[]\n",
    "for i in range(1):\n",
    "    ht=bmi[\"height\"]\n",
    "    wt=bmi[\"weight\"]\n",
    "    # print(ht,wt)\n",
    "    \n",
    "    for j in range(len(ht)):\n",
    "        # print(ht[j])\n",
    "        # print(wt[j])\n",
    "        ans=wt[j]/(ht[j]/100)**2\n",
    "        # print(ans)\n",
    "        bmivalues.append(ans)\n",
    "        bmistate=healthstatus(ans)\n",
    "        healthstatuses.append(bmistate)\n",
    "        \n",
    "df=pd.DataFrame(bmi)    \n",
    "df[\"BMI values\"]=bmivalues    \n",
    "df[\"Your health status\"]=healthstatuses    \n",
    "print(df)       \n",
    "\n",
    "for i in range(1):\n",
    "    a=df.loc[0]\n",
    "    print(a)"
   ]
  }
 ],
 "metadata": {
  "kernelspec": {
   "display_name": "base",
   "language": "python",
   "name": "python3"
  },
  "language_info": {
   "codemirror_mode": {
    "name": "ipython",
    "version": 3
   },
   "file_extension": ".py",
   "mimetype": "text/x-python",
   "name": "python",
   "nbconvert_exporter": "python",
   "pygments_lexer": "ipython3",
   "version": "3.11.3"
  },
  "orig_nbformat": 4
 },
 "nbformat": 4,
 "nbformat_minor": 2
}
