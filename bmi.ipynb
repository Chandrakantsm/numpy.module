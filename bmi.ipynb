{
 "cells": [
  {
   "cell_type": "code",
   "execution_count": null,
   "metadata": {},
   "outputs": [],
   "source": [
    "import pandas as pd\n",
    "list1=[10,20,30,40,50,60]\n",
    "df=pd.DataFrame(list1)\n",
    "df\n",
    "\n",
    "\n"
   ]
  },
  {
   "cell_type": "code",
   "execution_count": null,
   "metadata": {},
   "outputs": [],
   "source": [
    "import pandas as pd\n",
    "bmi={\"age\":[21,22,23,24,25],\"gender\":[\"m\",\"f\",\"m\",\"f\",\"m\"],\"height\":[161,150,162,165,170],\"weight\":[70,60,85,55,100]}\n",
    "df=pd.DataFrame(bmi)\n",
    "# print(df)\n",
    "for i in range(5):\n",
    "    a=df.loc[i]\n",
    "    print(a)"
   ]
  },
  {
   "cell_type": "code",
   "execution_count": null,
   "metadata": {},
   "outputs": [],
   "source": [
    "import pandas as pd\n",
    "bmi={\"age\":[21,22,23,24,25],\"gender\":[\"m\",\"f\",\"m\",\"f\",\"m\"],\"height\":[161,150,162,165,170],\"weight\":[70,60,85,55,100]}\n",
    "\n",
    "def healthstatus(bmi):\n",
    "    status=\"\"\n",
    "    if (bmi<18.5):\n",
    "        # print(\"underweight\")\n",
    "        status = \"underweight\"\n",
    "        return status\n",
    "    elif(bmi>18.5 and bmi<24.9):\n",
    "        # print(\"Healthy\")\n",
    "        status=\"Healthy\"\n",
    "        return status\n",
    "    elif(bmi>24.9 and bmi<30):\n",
    "        # print(\"overweight\")\n",
    "        status=\"overweight\"\n",
    "        return status\n",
    "    elif(bmi>30):\n",
    "        # print(\"suffering from obesity\")\n",
    "        status=\"suffering from obesity\"\n",
    "        return status\n",
    "    \n",
    "    \n",
    "bmivalues=[]\n",
    "healthstatuses=[]\n",
    "for i in range(1):\n",
    "    ht=bmi[\"height\"]\n",
    "    wt=bmi[\"weight\"]\n",
    "    # print(ht,wt)\n",
    "    \n",
    "    for j in range(len(ht)):\n",
    "        # print(ht[j])\n",
    "        # print(wt[j])\n",
    "        ans=wt[j]/(ht[j]/100)**2\n",
    "        # print(ans)\n",
    "        bmivalues.append(ans)\n",
    "        bmistate=healthstatus(ans)\n",
    "        healthstatuses.append(bmistate)\n",
    "        \n",
    "df=pd.DataFrame(bmi)    \n",
    "df[\"BMI values\"]=bmivalues    \n",
    "df[\"Your health status\"]=healthstatuses    \n",
    "print(df)       \n",
    "\n",
    "for i in range(1):\n",
    "    a=df.loc[0]\n",
    "    print(a)"
   ]
  },
  {
   "cell_type": "code",
   "execution_count": 51,
   "metadata": {},
   "outputs": [
    {
     "name": "stdout",
     "output_type": "stream",
     "text": [
      "[70, 80] [65, 75] [82, 92]\n",
      "72.33\n"
     ]
    },
    {
     "ename": "NameError",
     "evalue": "name 'res' is not defined",
     "output_type": "error",
     "traceback": [
      "\u001b[1;31m---------------------------------------------------------------------------\u001b[0m",
      "\u001b[1;31mNameError\u001b[0m                                 Traceback (most recent call last)",
      "Cell \u001b[1;32mIn[51], line 35\u001b[0m\n\u001b[0;32m     33\u001b[0m         percentage\u001b[39m.\u001b[39mappend(ans)\n\u001b[0;32m     34\u001b[0m         passingstatus\u001b[39m=\u001b[39mpassfail(ans)\n\u001b[1;32m---> 35\u001b[0m         Result\u001b[39m.\u001b[39mappend(res)\n\u001b[0;32m     36\u001b[0m df[\u001b[39m\"\u001b[39m\u001b[39mPercentage\u001b[39m\u001b[39m\"\u001b[39m]\u001b[39m=\u001b[39mpercentage\n\u001b[0;32m     37\u001b[0m df[\u001b[39m\"\u001b[39m\u001b[39mResult\u001b[39m\u001b[39m\"\u001b[39m]\u001b[39m=\u001b[39mResult\n",
      "\u001b[1;31mNameError\u001b[0m: name 'res' is not defined"
     ]
    }
   ],
   "source": [
    "# importing and creating dataframe\n",
    "import pandas as pd\n",
    "student_records={\"roll_no\":[1,2],\"name\":[\"abc\",\"xyz\"],\"physics\":[70,80],\"chemistry\":[65,75],\"Maths\":[82,92]}\n",
    "df=pd.DataFrame(student_records)\n",
    "# print(df)\n",
    "\n",
    "def passfail(ans):\n",
    "    res=\"\"\n",
    "    if ans<35:\n",
    "        res=\"Failed\"\n",
    "        return res\n",
    "    elif ans>34.99 and ans<60:\n",
    "        res=\"Pass\"\n",
    "        return res\n",
    "    elif ans>59.99 and ans<70:\n",
    "        res=\"Passed with Distinction\"\n",
    "        return res\n",
    "\n",
    "# calculating percentages and  result\n",
    "percentage=[]\n",
    "Result=[]\n",
    "pm,cm,mm=[],[],[]\n",
    "for i in range(1):\n",
    "    pm=student_records[\"physics\"]\n",
    "    cm=student_records[\"chemistry\"]\n",
    "    mm=student_records[\"Maths\"]\n",
    "    print(pm,cm,mm)\n",
    "    \n",
    "    for j in range(len(marks)):\n",
    "        # print(marks[j]/2)\n",
    "        ans=(pm[j]+cm[j]+mm[j])/3\n",
    "        print(round(ans,2))\n",
    "        percentage.append(ans)\n",
    "        passingstatus=passfail(ans)\n",
    "        Result.append(res)\n",
    "df[\"Percentage\"]=percentage\n",
    "df[\"Result\"]=Result\n",
    "df\n",
    "        \n",
    "\n",
    "\n",
    "\n"
   ]
  }
 ],
 "metadata": {
  "kernelspec": {
   "display_name": "base",
   "language": "python",
   "name": "python3"
  },
  "language_info": {
   "codemirror_mode": {
    "name": "ipython",
    "version": 3
   },
   "file_extension": ".py",
   "mimetype": "text/x-python",
   "name": "python",
   "nbconvert_exporter": "python",
   "pygments_lexer": "ipython3",
   "version": "3.11.3"
  },
  "orig_nbformat": 4
 },
 "nbformat": 4,
 "nbformat_minor": 2
}
